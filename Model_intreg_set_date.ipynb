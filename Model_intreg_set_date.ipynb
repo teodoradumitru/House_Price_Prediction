{
 "cells": [
  {
   "cell_type": "code",
   "execution_count": 150,
   "id": "ada2c62a",
   "metadata": {},
   "outputs": [],
   "source": [
    "import pandas as pd\n",
    "from sklearn.model_selection import train_test_split\n",
    "from sklearn.linear_model import LinearRegression\n",
    "from sklearn.ensemble import RandomForestRegressor\n",
    "from sklearn.neighbors import KNeighborsRegressor\n",
    "from sklearn.tree import DecisionTreeRegressor\n",
    "import matplotlib.pyplot as plt"
   ]
  },
  {
   "cell_type": "code",
   "execution_count": 151,
   "id": "b286562c",
   "metadata": {
    "scrolled": true
   },
   "outputs": [
    {
     "data": {
      "text/html": [
       "<div>\n",
       "<style scoped>\n",
       "    .dataframe tbody tr th:only-of-type {\n",
       "        vertical-align: middle;\n",
       "    }\n",
       "\n",
       "    .dataframe tbody tr th {\n",
       "        vertical-align: top;\n",
       "    }\n",
       "\n",
       "    .dataframe thead th {\n",
       "        text-align: right;\n",
       "    }\n",
       "</style>\n",
       "<table border=\"1\" class=\"dataframe\">\n",
       "  <thead>\n",
       "    <tr style=\"text-align: right;\">\n",
       "      <th></th>\n",
       "      <th>PIB_euro_loc</th>\n",
       "      <th>Rata_somaj</th>\n",
       "      <th>Numar_camere</th>\n",
       "      <th>Suprafata</th>\n",
       "      <th>Etaj</th>\n",
       "      <th>An_finalizare_constructie</th>\n",
       "      <th>Compartimentare_ circular</th>\n",
       "      <th>Compartimentare_ decomandat</th>\n",
       "      <th>Compartimentare_ nedecomandat</th>\n",
       "      <th>Compartimentare_ semidecomandat</th>\n",
       "      <th>...</th>\n",
       "      <th>Zona_ Zamca</th>\n",
       "      <th>Zona_ Zamfirescu</th>\n",
       "      <th>Zona_ Zamora</th>\n",
       "      <th>Zona_ Zarand</th>\n",
       "      <th>Zona_ Zavoi</th>\n",
       "      <th>Zona_ Zetarilor</th>\n",
       "      <th>Zona_ Zimbru</th>\n",
       "      <th>Zona_ Zona industriala</th>\n",
       "      <th>Zona_ Zorilor</th>\n",
       "      <th>Pret</th>\n",
       "    </tr>\n",
       "  </thead>\n",
       "  <tbody>\n",
       "    <tr>\n",
       "      <th>0</th>\n",
       "      <td>32425</td>\n",
       "      <td>1.1</td>\n",
       "      <td>3</td>\n",
       "      <td>84</td>\n",
       "      <td>4</td>\n",
       "      <td>2009</td>\n",
       "      <td>0</td>\n",
       "      <td>1</td>\n",
       "      <td>0</td>\n",
       "      <td>0</td>\n",
       "      <td>...</td>\n",
       "      <td>0</td>\n",
       "      <td>0</td>\n",
       "      <td>0</td>\n",
       "      <td>0</td>\n",
       "      <td>0</td>\n",
       "      <td>0</td>\n",
       "      <td>0</td>\n",
       "      <td>0</td>\n",
       "      <td>0</td>\n",
       "      <td>79000</td>\n",
       "    </tr>\n",
       "    <tr>\n",
       "      <th>1</th>\n",
       "      <td>32425</td>\n",
       "      <td>1.1</td>\n",
       "      <td>3</td>\n",
       "      <td>64</td>\n",
       "      <td>2</td>\n",
       "      <td>1974</td>\n",
       "      <td>0</td>\n",
       "      <td>0</td>\n",
       "      <td>0</td>\n",
       "      <td>1</td>\n",
       "      <td>...</td>\n",
       "      <td>0</td>\n",
       "      <td>0</td>\n",
       "      <td>0</td>\n",
       "      <td>0</td>\n",
       "      <td>0</td>\n",
       "      <td>0</td>\n",
       "      <td>0</td>\n",
       "      <td>0</td>\n",
       "      <td>0</td>\n",
       "      <td>87900</td>\n",
       "    </tr>\n",
       "    <tr>\n",
       "      <th>2</th>\n",
       "      <td>32425</td>\n",
       "      <td>1.1</td>\n",
       "      <td>3</td>\n",
       "      <td>64</td>\n",
       "      <td>4</td>\n",
       "      <td>1976</td>\n",
       "      <td>0</td>\n",
       "      <td>0</td>\n",
       "      <td>0</td>\n",
       "      <td>1</td>\n",
       "      <td>...</td>\n",
       "      <td>0</td>\n",
       "      <td>0</td>\n",
       "      <td>0</td>\n",
       "      <td>0</td>\n",
       "      <td>0</td>\n",
       "      <td>0</td>\n",
       "      <td>0</td>\n",
       "      <td>0</td>\n",
       "      <td>0</td>\n",
       "      <td>74500</td>\n",
       "    </tr>\n",
       "    <tr>\n",
       "      <th>3</th>\n",
       "      <td>10161</td>\n",
       "      <td>2.8</td>\n",
       "      <td>3</td>\n",
       "      <td>55</td>\n",
       "      <td>3</td>\n",
       "      <td>2019</td>\n",
       "      <td>0</td>\n",
       "      <td>0</td>\n",
       "      <td>0</td>\n",
       "      <td>1</td>\n",
       "      <td>...</td>\n",
       "      <td>0</td>\n",
       "      <td>0</td>\n",
       "      <td>0</td>\n",
       "      <td>0</td>\n",
       "      <td>0</td>\n",
       "      <td>0</td>\n",
       "      <td>0</td>\n",
       "      <td>0</td>\n",
       "      <td>0</td>\n",
       "      <td>81500</td>\n",
       "    </tr>\n",
       "    <tr>\n",
       "      <th>4</th>\n",
       "      <td>32425</td>\n",
       "      <td>1.1</td>\n",
       "      <td>1</td>\n",
       "      <td>34</td>\n",
       "      <td>9</td>\n",
       "      <td>1981</td>\n",
       "      <td>0</td>\n",
       "      <td>1</td>\n",
       "      <td>0</td>\n",
       "      <td>0</td>\n",
       "      <td>...</td>\n",
       "      <td>0</td>\n",
       "      <td>0</td>\n",
       "      <td>0</td>\n",
       "      <td>0</td>\n",
       "      <td>0</td>\n",
       "      <td>0</td>\n",
       "      <td>0</td>\n",
       "      <td>0</td>\n",
       "      <td>0</td>\n",
       "      <td>65500</td>\n",
       "    </tr>\n",
       "    <tr>\n",
       "      <th>...</th>\n",
       "      <td>...</td>\n",
       "      <td>...</td>\n",
       "      <td>...</td>\n",
       "      <td>...</td>\n",
       "      <td>...</td>\n",
       "      <td>...</td>\n",
       "      <td>...</td>\n",
       "      <td>...</td>\n",
       "      <td>...</td>\n",
       "      <td>...</td>\n",
       "      <td>...</td>\n",
       "      <td>...</td>\n",
       "      <td>...</td>\n",
       "      <td>...</td>\n",
       "      <td>...</td>\n",
       "      <td>...</td>\n",
       "      <td>...</td>\n",
       "      <td>...</td>\n",
       "      <td>...</td>\n",
       "      <td>...</td>\n",
       "      <td>...</td>\n",
       "    </tr>\n",
       "    <tr>\n",
       "      <th>13895</th>\n",
       "      <td>32425</td>\n",
       "      <td>1.1</td>\n",
       "      <td>4</td>\n",
       "      <td>90</td>\n",
       "      <td>4</td>\n",
       "      <td>1979</td>\n",
       "      <td>0</td>\n",
       "      <td>1</td>\n",
       "      <td>0</td>\n",
       "      <td>0</td>\n",
       "      <td>...</td>\n",
       "      <td>0</td>\n",
       "      <td>0</td>\n",
       "      <td>0</td>\n",
       "      <td>0</td>\n",
       "      <td>0</td>\n",
       "      <td>0</td>\n",
       "      <td>0</td>\n",
       "      <td>0</td>\n",
       "      <td>0</td>\n",
       "      <td>115000</td>\n",
       "    </tr>\n",
       "    <tr>\n",
       "      <th>13896</th>\n",
       "      <td>10200</td>\n",
       "      <td>2.9</td>\n",
       "      <td>3</td>\n",
       "      <td>63</td>\n",
       "      <td>3</td>\n",
       "      <td>1991</td>\n",
       "      <td>0</td>\n",
       "      <td>1</td>\n",
       "      <td>0</td>\n",
       "      <td>0</td>\n",
       "      <td>...</td>\n",
       "      <td>0</td>\n",
       "      <td>0</td>\n",
       "      <td>0</td>\n",
       "      <td>0</td>\n",
       "      <td>0</td>\n",
       "      <td>0</td>\n",
       "      <td>0</td>\n",
       "      <td>0</td>\n",
       "      <td>0</td>\n",
       "      <td>82000</td>\n",
       "    </tr>\n",
       "    <tr>\n",
       "      <th>13897</th>\n",
       "      <td>10337</td>\n",
       "      <td>3.9</td>\n",
       "      <td>2</td>\n",
       "      <td>60</td>\n",
       "      <td>4</td>\n",
       "      <td>1983</td>\n",
       "      <td>0</td>\n",
       "      <td>1</td>\n",
       "      <td>0</td>\n",
       "      <td>0</td>\n",
       "      <td>...</td>\n",
       "      <td>0</td>\n",
       "      <td>1</td>\n",
       "      <td>0</td>\n",
       "      <td>0</td>\n",
       "      <td>0</td>\n",
       "      <td>0</td>\n",
       "      <td>0</td>\n",
       "      <td>0</td>\n",
       "      <td>0</td>\n",
       "      <td>54000</td>\n",
       "    </tr>\n",
       "    <tr>\n",
       "      <th>13898</th>\n",
       "      <td>14958</td>\n",
       "      <td>2.0</td>\n",
       "      <td>2</td>\n",
       "      <td>50</td>\n",
       "      <td>4</td>\n",
       "      <td>1980</td>\n",
       "      <td>0</td>\n",
       "      <td>1</td>\n",
       "      <td>0</td>\n",
       "      <td>0</td>\n",
       "      <td>...</td>\n",
       "      <td>0</td>\n",
       "      <td>0</td>\n",
       "      <td>0</td>\n",
       "      <td>0</td>\n",
       "      <td>0</td>\n",
       "      <td>0</td>\n",
       "      <td>0</td>\n",
       "      <td>0</td>\n",
       "      <td>0</td>\n",
       "      <td>63000</td>\n",
       "    </tr>\n",
       "    <tr>\n",
       "      <th>13899</th>\n",
       "      <td>14958</td>\n",
       "      <td>2.0</td>\n",
       "      <td>3</td>\n",
       "      <td>75</td>\n",
       "      <td>2</td>\n",
       "      <td>1978</td>\n",
       "      <td>0</td>\n",
       "      <td>0</td>\n",
       "      <td>0</td>\n",
       "      <td>1</td>\n",
       "      <td>...</td>\n",
       "      <td>0</td>\n",
       "      <td>0</td>\n",
       "      <td>0</td>\n",
       "      <td>0</td>\n",
       "      <td>0</td>\n",
       "      <td>0</td>\n",
       "      <td>0</td>\n",
       "      <td>0</td>\n",
       "      <td>0</td>\n",
       "      <td>97000</td>\n",
       "    </tr>\n",
       "  </tbody>\n",
       "</table>\n",
       "<p>13900 rows × 882 columns</p>\n",
       "</div>"
      ],
      "text/plain": [
       "       PIB_euro_loc  Rata_somaj  Numar_camere Suprafata  Etaj  \\\n",
       "0             32425         1.1             3        84     4   \n",
       "1             32425         1.1             3        64     2   \n",
       "2             32425         1.1             3        64     4   \n",
       "3             10161         2.8             3        55     3   \n",
       "4             32425         1.1             1        34     9   \n",
       "...             ...         ...           ...       ...   ...   \n",
       "13895         32425         1.1             4        90     4   \n",
       "13896         10200         2.9             3        63     3   \n",
       "13897         10337         3.9             2        60     4   \n",
       "13898         14958         2.0             2        50     4   \n",
       "13899         14958         2.0             3        75     2   \n",
       "\n",
       "      An_finalizare_constructie  Compartimentare_ circular  \\\n",
       "0                          2009                          0   \n",
       "1                          1974                          0   \n",
       "2                          1976                          0   \n",
       "3                          2019                          0   \n",
       "4                          1981                          0   \n",
       "...                         ...                        ...   \n",
       "13895                      1979                          0   \n",
       "13896                      1991                          0   \n",
       "13897                      1983                          0   \n",
       "13898                      1980                          0   \n",
       "13899                      1978                          0   \n",
       "\n",
       "       Compartimentare_ decomandat  Compartimentare_ nedecomandat  \\\n",
       "0                                1                              0   \n",
       "1                                0                              0   \n",
       "2                                0                              0   \n",
       "3                                0                              0   \n",
       "4                                1                              0   \n",
       "...                            ...                            ...   \n",
       "13895                            1                              0   \n",
       "13896                            1                              0   \n",
       "13897                            1                              0   \n",
       "13898                            1                              0   \n",
       "13899                            0                              0   \n",
       "\n",
       "       Compartimentare_ semidecomandat  ...  Zona_ Zamca  Zona_ Zamfirescu  \\\n",
       "0                                    0  ...            0                 0   \n",
       "1                                    1  ...            0                 0   \n",
       "2                                    1  ...            0                 0   \n",
       "3                                    1  ...            0                 0   \n",
       "4                                    0  ...            0                 0   \n",
       "...                                ...  ...          ...               ...   \n",
       "13895                                0  ...            0                 0   \n",
       "13896                                0  ...            0                 0   \n",
       "13897                                0  ...            0                 1   \n",
       "13898                                0  ...            0                 0   \n",
       "13899                                1  ...            0                 0   \n",
       "\n",
       "       Zona_ Zamora  Zona_ Zarand  Zona_ Zavoi  Zona_ Zetarilor  Zona_ Zimbru  \\\n",
       "0                 0             0            0                0             0   \n",
       "1                 0             0            0                0             0   \n",
       "2                 0             0            0                0             0   \n",
       "3                 0             0            0                0             0   \n",
       "4                 0             0            0                0             0   \n",
       "...             ...           ...          ...              ...           ...   \n",
       "13895             0             0            0                0             0   \n",
       "13896             0             0            0                0             0   \n",
       "13897             0             0            0                0             0   \n",
       "13898             0             0            0                0             0   \n",
       "13899             0             0            0                0             0   \n",
       "\n",
       "       Zona_ Zona industriala  Zona_ Zorilor    Pret  \n",
       "0                           0              0   79000  \n",
       "1                           0              0   87900  \n",
       "2                           0              0   74500  \n",
       "3                           0              0   81500  \n",
       "4                           0              0   65500  \n",
       "...                       ...            ...     ...  \n",
       "13895                       0              0  115000  \n",
       "13896                       0              0   82000  \n",
       "13897                       0              0   54000  \n",
       "13898                       0              0   63000  \n",
       "13899                       0              0   97000  \n",
       "\n",
       "[13900 rows x 882 columns]"
      ]
     },
     "execution_count": 151,
     "metadata": {},
     "output_type": "execute_result"
    }
   ],
   "source": [
    "data = pd.read_csv(\"C:\\\\Users\\\\teodo\\\\OneDrive\\\\Desktop\\\\Clean_data.csv\")\n",
    "data"
   ]
  },
  {
   "cell_type": "code",
   "execution_count": 152,
   "id": "e396cd3f",
   "metadata": {
    "scrolled": true
   },
   "outputs": [
    {
     "data": {
      "text/html": [
       "<div>\n",
       "<style scoped>\n",
       "    .dataframe tbody tr th:only-of-type {\n",
       "        vertical-align: middle;\n",
       "    }\n",
       "\n",
       "    .dataframe tbody tr th {\n",
       "        vertical-align: top;\n",
       "    }\n",
       "\n",
       "    .dataframe thead th {\n",
       "        text-align: right;\n",
       "    }\n",
       "</style>\n",
       "<table border=\"1\" class=\"dataframe\">\n",
       "  <thead>\n",
       "    <tr style=\"text-align: right;\">\n",
       "      <th></th>\n",
       "      <th>Judet</th>\n",
       "      <th>PIB</th>\n",
       "      <th>Abreviere</th>\n",
       "    </tr>\n",
       "  </thead>\n",
       "  <tbody>\n",
       "    <tr>\n",
       "      <th>0</th>\n",
       "      <td>Bacău</td>\n",
       "      <td>8262</td>\n",
       "      <td>BC</td>\n",
       "    </tr>\n",
       "    <tr>\n",
       "      <th>1</th>\n",
       "      <td>Botoşani</td>\n",
       "      <td>6431</td>\n",
       "      <td>BT</td>\n",
       "    </tr>\n",
       "    <tr>\n",
       "      <th>2</th>\n",
       "      <td>Iaşi</td>\n",
       "      <td>10161</td>\n",
       "      <td>IS</td>\n",
       "    </tr>\n",
       "    <tr>\n",
       "      <th>3</th>\n",
       "      <td>Neamţ</td>\n",
       "      <td>7664</td>\n",
       "      <td>NT</td>\n",
       "    </tr>\n",
       "    <tr>\n",
       "      <th>4</th>\n",
       "      <td>Suceava</td>\n",
       "      <td>7179</td>\n",
       "      <td>SV</td>\n",
       "    </tr>\n",
       "  </tbody>\n",
       "</table>\n",
       "</div>"
      ],
      "text/plain": [
       "      Judet    PIB Abreviere\n",
       "0     Bacău   8262        BC\n",
       "1  Botoşani   6431        BT\n",
       "2      Iaşi  10161        IS\n",
       "3     Neamţ   7664        NT\n",
       "4   Suceava   7179        SV"
      ]
     },
     "execution_count": 152,
     "metadata": {},
     "output_type": "execute_result"
    }
   ],
   "source": [
    "PIB = pd.read_csv(\"C:\\\\Users\\\\teodo\\\\OneDrive\\\\Desktop\\\\PIB.csv\")\n",
    "PIB.head()"
   ]
  },
  {
   "cell_type": "code",
   "execution_count": 153,
   "id": "04a59e59",
   "metadata": {
    "scrolled": true
   },
   "outputs": [
    {
     "data": {
      "text/plain": [
       "count       41.000000\n",
       "mean     10506.439024\n",
       "std       4379.894246\n",
       "min       5821.000000\n",
       "25%       8333.000000\n",
       "50%       9225.000000\n",
       "75%      11215.000000\n",
       "max      32425.000000\n",
       "Name: PIB, dtype: float64"
      ]
     },
     "execution_count": 153,
     "metadata": {},
     "output_type": "execute_result"
    }
   ],
   "source": [
    "PIB.PIB.describe()"
   ]
  },
  {
   "cell_type": "code",
   "execution_count": 154,
   "id": "fced9492",
   "metadata": {},
   "outputs": [],
   "source": [
    "#PIB-ul/cap de locuitor la nivelul judetelor Romaniei in anul 2021 s-a situat in medie la aproximativ 10 000 de euro. \n",
    "#Cel mai mic PIB/cap de locuitor fiind inregistrat in judetul Vaslui cu o valoare de 5821 euro iar cea mai mare valoare \n",
    "#s-a inregistrat in judetul Ilfov, 32425 euro."
   ]
  },
  {
   "cell_type": "code",
   "execution_count": 155,
   "id": "f93983be",
   "metadata": {},
   "outputs": [
    {
     "data": {
      "image/png": "[encoded data removed]",
      "text/plain": [
       "<Figure size 1440x360 with 1 Axes>"
      ]
     },
     "metadata": {
      "needs_background": "light"
     },
     "output_type": "display_data"
    }
   ],
   "source": [
    "plt.bar(PIB['Abreviere'], PIB['PIB'])\n",
    "plt.title('Judet Vs PIB Per Capita', fontsize=14)\n",
    "plt.xlabel('Judet', fontsize=14)\n",
    "plt.ylabel('PIB Per Capita', fontsize=14)\n",
    "plt.grid(True)\n",
    "plt.gcf().set_size_inches(20, 5)\n",
    "plt.show()"
   ]
  },
  {
   "cell_type": "code",
   "execution_count": 156,
   "id": "8b2502c3",
   "metadata": {
    "scrolled": true
   },
   "outputs": [
    {
     "data": {
      "text/html": [
       "<div>\n",
       "<style scoped>\n",
       "    .dataframe tbody tr th:only-of-type {\n",
       "        vertical-align: middle;\n",
       "    }\n",
       "\n",
       "    .dataframe tbody tr th {\n",
       "        vertical-align: top;\n",
       "    }\n",
       "\n",
       "    .dataframe thead th {\n",
       "        text-align: right;\n",
       "    }\n",
       "</style>\n",
       "<table border=\"1\" class=\"dataframe\">\n",
       "  <thead>\n",
       "    <tr style=\"text-align: right;\">\n",
       "      <th></th>\n",
       "      <th>Judet</th>\n",
       "      <th>Rata_somaj</th>\n",
       "      <th>Abreviere</th>\n",
       "    </tr>\n",
       "  </thead>\n",
       "  <tbody>\n",
       "    <tr>\n",
       "      <th>0</th>\n",
       "      <td>Bihor</td>\n",
       "      <td>1.2</td>\n",
       "      <td>BH</td>\n",
       "    </tr>\n",
       "    <tr>\n",
       "      <th>1</th>\n",
       "      <td>Bistrita-Nasaud</td>\n",
       "      <td>3.1</td>\n",
       "      <td>BN</td>\n",
       "    </tr>\n",
       "    <tr>\n",
       "      <th>2</th>\n",
       "      <td>Cluj</td>\n",
       "      <td>1.2</td>\n",
       "      <td>CJ</td>\n",
       "    </tr>\n",
       "    <tr>\n",
       "      <th>3</th>\n",
       "      <td>Maramures</td>\n",
       "      <td>1.7</td>\n",
       "      <td>MM</td>\n",
       "    </tr>\n",
       "    <tr>\n",
       "      <th>4</th>\n",
       "      <td>Satu Mare</td>\n",
       "      <td>3.2</td>\n",
       "      <td>SM</td>\n",
       "    </tr>\n",
       "  </tbody>\n",
       "</table>\n",
       "</div>"
      ],
      "text/plain": [
       "             Judet  Rata_somaj Abreviere\n",
       "0            Bihor         1.2        BH\n",
       "1  Bistrita-Nasaud         3.1        BN\n",
       "2             Cluj         1.2        CJ\n",
       "3        Maramures         1.7        MM\n",
       "4        Satu Mare         3.2        SM"
      ]
     },
     "execution_count": 156,
     "metadata": {},
     "output_type": "execute_result"
    }
   ],
   "source": [
    "Rata_somaj = pd.read_csv(\"C:\\\\Users\\\\teodo\\\\OneDrive\\\\Desktop\\\\Rata_somaj.csv\")\n",
    "Rata_somaj.head()"
   ]
  },
  {
   "cell_type": "code",
   "execution_count": 157,
   "id": "d0434b7c",
   "metadata": {
    "scrolled": true
   },
   "outputs": [
    {
     "data": {
      "text/plain": [
       "count    41.000000\n",
       "mean      3.190244\n",
       "std       1.462328\n",
       "min       0.700000\n",
       "25%       2.100000\n",
       "50%       3.100000\n",
       "75%       4.200000\n",
       "max       6.600000\n",
       "Name: Rata_somaj, dtype: float64"
      ]
     },
     "execution_count": 157,
     "metadata": {},
     "output_type": "execute_result"
    }
   ],
   "source": [
    "Rata_somaj.Rata_somaj.describe()"
   ]
  },
  {
   "cell_type": "code",
   "execution_count": 158,
   "id": "d9624fa4",
   "metadata": {},
   "outputs": [],
   "source": [
    "#In medie, rata somajului la nivelul judetelor Romaniei este la sfarsitul lunii februarie 2022 de 3.2%. \n",
    "#Cea mai mica rata a somajului fiind inregistrata in judetul Ilfov de 1.1% iar cea mai mare in judetul Vaslui de 6.6%."
   ]
  },
  {
   "cell_type": "code",
   "execution_count": 159,
   "id": "2b76dccd",
   "metadata": {},
   "outputs": [
    {
     "data": {
      "image/png": "[encoded data removed]",
      "text/plain": [
       "<Figure size 1440x360 with 1 Axes>"
      ]
     },
     "metadata": {
      "needs_background": "light"
     },
     "output_type": "display_data"
    }
   ],
   "source": [
    "plt.bar(Rata_somaj['Abreviere'], Rata_somaj['Rata_somaj'])\n",
    "plt.title('Judet Vs Rata Somaj', fontsize=14)\n",
    "plt.xlabel('Judet', fontsize=14)\n",
    "plt.ylabel('Rata Somaj', fontsize=14)\n",
    "plt.grid(True)\n",
    "plt.gcf().set_size_inches(20, 5)\n",
    "plt.show()"
   ]
  },
  {
   "cell_type": "code",
   "execution_count": 160,
   "id": "05532b8e",
   "metadata": {},
   "outputs": [],
   "source": [
    "X = data.iloc[:,0:881]"
   ]
  },
  {
   "cell_type": "code",
   "execution_count": 161,
   "id": "93094c4f",
   "metadata": {},
   "outputs": [],
   "source": [
    "y = data.iloc[:,881:]"
   ]
  },
  {
   "cell_type": "code",
   "execution_count": 162,
   "id": "c3855cec",
   "metadata": {},
   "outputs": [
    {
     "data": {
      "text/html": [
       "<div>\n",
       "<style scoped>\n",
       "    .dataframe tbody tr th:only-of-type {\n",
       "        vertical-align: middle;\n",
       "    }\n",
       "\n",
       "    .dataframe tbody tr th {\n",
       "        vertical-align: top;\n",
       "    }\n",
       "\n",
       "    .dataframe thead th {\n",
       "        text-align: right;\n",
       "    }\n",
       "</style>\n",
       "<table border=\"1\" class=\"dataframe\">\n",
       "  <thead>\n",
       "    <tr style=\"text-align: right;\">\n",
       "      <th></th>\n",
       "      <th>PIB_euro_loc</th>\n",
       "      <th>Rata_somaj</th>\n",
       "      <th>Numar_camere</th>\n",
       "      <th>Suprafata</th>\n",
       "      <th>Etaj</th>\n",
       "      <th>An_finalizare_constructie</th>\n",
       "      <th>Compartimentare_ circular</th>\n",
       "      <th>Compartimentare_ decomandat</th>\n",
       "      <th>Compartimentare_ nedecomandat</th>\n",
       "      <th>Compartimentare_ semidecomandat</th>\n",
       "      <th>...</th>\n",
       "      <th>Zona_ Zahana</th>\n",
       "      <th>Zona_ Zamca</th>\n",
       "      <th>Zona_ Zamfirescu</th>\n",
       "      <th>Zona_ Zamora</th>\n",
       "      <th>Zona_ Zarand</th>\n",
       "      <th>Zona_ Zavoi</th>\n",
       "      <th>Zona_ Zetarilor</th>\n",
       "      <th>Zona_ Zimbru</th>\n",
       "      <th>Zona_ Zona industriala</th>\n",
       "      <th>Zona_ Zorilor</th>\n",
       "    </tr>\n",
       "  </thead>\n",
       "  <tbody>\n",
       "    <tr>\n",
       "      <th>0</th>\n",
       "      <td>32425</td>\n",
       "      <td>1.1</td>\n",
       "      <td>3</td>\n",
       "      <td>84</td>\n",
       "      <td>4</td>\n",
       "      <td>2009</td>\n",
       "      <td>0</td>\n",
       "      <td>1</td>\n",
       "      <td>0</td>\n",
       "      <td>0</td>\n",
       "      <td>...</td>\n",
       "      <td>0</td>\n",
       "      <td>0</td>\n",
       "      <td>0</td>\n",
       "      <td>0</td>\n",
       "      <td>0</td>\n",
       "      <td>0</td>\n",
       "      <td>0</td>\n",
       "      <td>0</td>\n",
       "      <td>0</td>\n",
       "      <td>0</td>\n",
       "    </tr>\n",
       "    <tr>\n",
       "      <th>1</th>\n",
       "      <td>32425</td>\n",
       "      <td>1.1</td>\n",
       "      <td>3</td>\n",
       "      <td>64</td>\n",
       "      <td>2</td>\n",
       "      <td>1974</td>\n",
       "      <td>0</td>\n",
       "      <td>0</td>\n",
       "      <td>0</td>\n",
       "      <td>1</td>\n",
       "      <td>...</td>\n",
       "      <td>0</td>\n",
       "      <td>0</td>\n",
       "      <td>0</td>\n",
       "      <td>0</td>\n",
       "      <td>0</td>\n",
       "      <td>0</td>\n",
       "      <td>0</td>\n",
       "      <td>0</td>\n",
       "      <td>0</td>\n",
       "      <td>0</td>\n",
       "    </tr>\n",
       "    <tr>\n",
       "      <th>2</th>\n",
       "      <td>32425</td>\n",
       "      <td>1.1</td>\n",
       "      <td>3</td>\n",
       "      <td>64</td>\n",
       "      <td>4</td>\n",
       "      <td>1976</td>\n",
       "      <td>0</td>\n",
       "      <td>0</td>\n",
       "      <td>0</td>\n",
       "      <td>1</td>\n",
       "      <td>...</td>\n",
       "      <td>0</td>\n",
       "      <td>0</td>\n",
       "      <td>0</td>\n",
       "      <td>0</td>\n",
       "      <td>0</td>\n",
       "      <td>0</td>\n",
       "      <td>0</td>\n",
       "      <td>0</td>\n",
       "      <td>0</td>\n",
       "      <td>0</td>\n",
       "    </tr>\n",
       "    <tr>\n",
       "      <th>3</th>\n",
       "      <td>10161</td>\n",
       "      <td>2.8</td>\n",
       "      <td>3</td>\n",
       "      <td>55</td>\n",
       "      <td>3</td>\n",
       "      <td>2019</td>\n",
       "      <td>0</td>\n",
       "      <td>0</td>\n",
       "      <td>0</td>\n",
       "      <td>1</td>\n",
       "      <td>...</td>\n",
       "      <td>0</td>\n",
       "      <td>0</td>\n",
       "      <td>0</td>\n",
       "      <td>0</td>\n",
       "      <td>0</td>\n",
       "      <td>0</td>\n",
       "      <td>0</td>\n",
       "      <td>0</td>\n",
       "      <td>0</td>\n",
       "      <td>0</td>\n",
       "    </tr>\n",
       "    <tr>\n",
       "      <th>4</th>\n",
       "      <td>32425</td>\n",
       "      <td>1.1</td>\n",
       "      <td>1</td>\n",
       "      <td>34</td>\n",
       "      <td>9</td>\n",
       "      <td>1981</td>\n",
       "      <td>0</td>\n",
       "      <td>1</td>\n",
       "      <td>0</td>\n",
       "      <td>0</td>\n",
       "      <td>...</td>\n",
       "      <td>0</td>\n",
       "      <td>0</td>\n",
       "      <td>0</td>\n",
       "      <td>0</td>\n",
       "      <td>0</td>\n",
       "      <td>0</td>\n",
       "      <td>0</td>\n",
       "      <td>0</td>\n",
       "      <td>0</td>\n",
       "      <td>0</td>\n",
       "    </tr>\n",
       "  </tbody>\n",
       "</table>\n",
       "<p>5 rows × 881 columns</p>\n",
       "</div>"
      ],
      "text/plain": [
       "   PIB_euro_loc  Rata_somaj  Numar_camere Suprafata  Etaj  \\\n",
       "0         32425         1.1             3        84     4   \n",
       "1         32425         1.1             3        64     2   \n",
       "2         32425         1.1             3        64     4   \n",
       "3         10161         2.8             3        55     3   \n",
       "4         32425         1.1             1        34     9   \n",
       "\n",
       "  An_finalizare_constructie  Compartimentare_ circular  \\\n",
       "0                      2009                          0   \n",
       "1                      1974                          0   \n",
       "2                      1976                          0   \n",
       "3                      2019                          0   \n",
       "4                      1981                          0   \n",
       "\n",
       "   Compartimentare_ decomandat  Compartimentare_ nedecomandat  \\\n",
       "0                            1                              0   \n",
       "1                            0                              0   \n",
       "2                            0                              0   \n",
       "3                            0                              0   \n",
       "4                            1                              0   \n",
       "\n",
       "   Compartimentare_ semidecomandat  ...  Zona_ Zahana  Zona_ Zamca  \\\n",
       "0                                0  ...             0            0   \n",
       "1                                1  ...             0            0   \n",
       "2                                1  ...             0            0   \n",
       "3                                1  ...             0            0   \n",
       "4                                0  ...             0            0   \n",
       "\n",
       "   Zona_ Zamfirescu  Zona_ Zamora  Zona_ Zarand  Zona_ Zavoi  Zona_ Zetarilor  \\\n",
       "0                 0             0             0            0                0   \n",
       "1                 0             0             0            0                0   \n",
       "2                 0             0             0            0                0   \n",
       "3                 0             0             0            0                0   \n",
       "4                 0             0             0            0                0   \n",
       "\n",
       "   Zona_ Zimbru  Zona_ Zona industriala  Zona_ Zorilor  \n",
       "0             0                       0              0  \n",
       "1             0                       0              0  \n",
       "2             0                       0              0  \n",
       "3             0                       0              0  \n",
       "4             0                       0              0  \n",
       "\n",
       "[5 rows x 881 columns]"
      ]
     },
     "execution_count": 162,
     "metadata": {},
     "output_type": "execute_result"
    }
   ],
   "source": [
    "X.head()"
   ]
  },
  {
   "cell_type": "code",
   "execution_count": 163,
   "id": "a888026a",
   "metadata": {},
   "outputs": [
    {
     "data": {
      "text/html": [
       "<div>\n",
       "<style scoped>\n",
       "    .dataframe tbody tr th:only-of-type {\n",
       "        vertical-align: middle;\n",
       "    }\n",
       "\n",
       "    .dataframe tbody tr th {\n",
       "        vertical-align: top;\n",
       "    }\n",
       "\n",
       "    .dataframe thead th {\n",
       "        text-align: right;\n",
       "    }\n",
       "</style>\n",
       "<table border=\"1\" class=\"dataframe\">\n",
       "  <thead>\n",
       "    <tr style=\"text-align: right;\">\n",
       "      <th></th>\n",
       "      <th>Pret</th>\n",
       "    </tr>\n",
       "  </thead>\n",
       "  <tbody>\n",
       "    <tr>\n",
       "      <th>0</th>\n",
       "      <td>79000</td>\n",
       "    </tr>\n",
       "    <tr>\n",
       "      <th>1</th>\n",
       "      <td>87900</td>\n",
       "    </tr>\n",
       "    <tr>\n",
       "      <th>2</th>\n",
       "      <td>74500</td>\n",
       "    </tr>\n",
       "    <tr>\n",
       "      <th>3</th>\n",
       "      <td>81500</td>\n",
       "    </tr>\n",
       "    <tr>\n",
       "      <th>4</th>\n",
       "      <td>65500</td>\n",
       "    </tr>\n",
       "  </tbody>\n",
       "</table>\n",
       "</div>"
      ],
      "text/plain": [
       "    Pret\n",
       "0  79000\n",
       "1  87900\n",
       "2  74500\n",
       "3  81500\n",
       "4  65500"
      ]
     },
     "execution_count": 163,
     "metadata": {},
     "output_type": "execute_result"
    }
   ],
   "source": [
    "y.head()"
   ]
  },
  {
   "cell_type": "code",
   "execution_count": 164,
   "id": "ec8b88df",
   "metadata": {},
   "outputs": [],
   "source": [
    "X_train, X_test, y_train, y_test = train_test_split(X, y, test_size = 0.33, random_state=101)"
   ]
  },
  {
   "cell_type": "code",
   "execution_count": 165,
   "id": "a64e82b4",
   "metadata": {},
   "outputs": [],
   "source": [
    "reg = LinearRegression()"
   ]
  },
  {
   "cell_type": "code",
   "execution_count": 166,
   "id": "90428658",
   "metadata": {},
   "outputs": [],
   "source": [
    "#Coeficientul de determinatie"
   ]
  },
  {
   "cell_type": "code",
   "execution_count": 167,
   "id": "0abec868",
   "metadata": {},
   "outputs": [
    {
     "data": {
      "text/plain": [
       "0.67540158688493"
      ]
     },
     "execution_count": 167,
     "metadata": {},
     "output_type": "execute_result"
    }
   ],
   "source": [
    "reg.fit(X,y)\n",
    "reg.score(X_test,y_test)"
   ]
  },
  {
   "cell_type": "code",
   "execution_count": 168,
   "id": "cfd21ab3",
   "metadata": {},
   "outputs": [],
   "source": [
    "#Coeficientul de determinatie ajustat"
   ]
  },
  {
   "cell_type": "code",
   "execution_count": 169,
   "id": "fdb297ad",
   "metadata": {},
   "outputs": [
    {
     "data": {
      "text/plain": [
       "0.653434218475468"
      ]
     },
     "execution_count": 169,
     "metadata": {},
     "output_type": "execute_result"
    }
   ],
   "source": [
    "1 - ((1-reg.score(X_test, y_test))*(13900-1)/(13900-881-1))"
   ]
  },
  {
   "cell_type": "code",
   "execution_count": 170,
   "id": "ad95ab42",
   "metadata": {},
   "outputs": [
    {
     "data": {
      "text/plain": [
       "0.7055675203749368"
      ]
     },
     "execution_count": 170,
     "metadata": {},
     "output_type": "execute_result"
    }
   ],
   "source": [
    "kn = KNeighborsRegressor()\n",
    "kn.fit(X, y)\n",
    "kn.score(X_test, y_test)"
   ]
  },
  {
   "cell_type": "code",
   "execution_count": 171,
   "id": "a6e68e12",
   "metadata": {},
   "outputs": [
    {
     "data": {
      "text/plain": [
       "0.6856416473875593"
      ]
     },
     "execution_count": 171,
     "metadata": {},
     "output_type": "execute_result"
    }
   ],
   "source": [
    "1 - ((1-kn.score(X_test, y_test))*(13900-1)/(13900-881-1))"
   ]
  },
  {
   "cell_type": "code",
   "execution_count": 172,
   "id": "66c8afaf",
   "metadata": {},
   "outputs": [
    {
     "name": "stderr",
     "output_type": "stream",
     "text": [
      "C:\\Users\\teodo\\AppData\\Local\\Temp/ipykernel_15240/1335703678.py:2: DataConversionWarning: A column-vector y was passed when a 1d array was expected. Please change the shape of y to (n_samples,), for example using ravel().\n",
      "  clf.fit(X,y)\n"
     ]
    },
    {
     "data": {
      "text/plain": [
       "0.959025588627894"
      ]
     },
     "execution_count": 172,
     "metadata": {},
     "output_type": "execute_result"
    }
   ],
   "source": [
    "clf = RandomForestRegressor()\n",
    "clf.fit(X,y)\n",
    "clf.score(X_test, y_test)"
   ]
  },
  {
   "cell_type": "code",
   "execution_count": 173,
   "id": "c3b2de13",
   "metadata": {},
   "outputs": [
    {
     "data": {
      "text/plain": [
       "0.9562526237777769"
      ]
     },
     "execution_count": 173,
     "metadata": {},
     "output_type": "execute_result"
    }
   ],
   "source": [
    "1 - ((1-clf.score(X_test, y_test))*(13900-1)/(13900-881-1))"
   ]
  },
  {
   "cell_type": "code",
   "execution_count": 174,
   "id": "d8c1516b",
   "metadata": {},
   "outputs": [
    {
     "data": {
      "text/plain": [
       "0.9953526501815085"
      ]
     },
     "execution_count": 174,
     "metadata": {},
     "output_type": "execute_result"
    }
   ],
   "source": [
    "dt = DecisionTreeRegressor()\n",
    "dt.fit(X, y)\n",
    "dt.score(X_test, y_test)"
   ]
  },
  {
   "cell_type": "code",
   "execution_count": 175,
   "id": "5efea672",
   "metadata": {},
   "outputs": [
    {
     "data": {
      "text/plain": [
       "0.9950381383371322"
      ]
     },
     "execution_count": 175,
     "metadata": {},
     "output_type": "execute_result"
    }
   ],
   "source": [
    "1 - ((1-dt.score(X_test, y_test))*(13900-1)/(13900-881-1))"
   ]
  },
  {
   "cell_type": "code",
   "execution_count": 193,
   "id": "4e876b4f",
   "metadata": {},
   "outputs": [],
   "source": [
    "y_pred = dt.predict(X_test)"
   ]
  },
  {
   "cell_type": "code",
   "execution_count": 184,
   "id": "d790c3ff",
   "metadata": {},
   "outputs": [
    {
     "data": {
      "image/png": "[encoded data removed]",
      "text/plain": [
       "<Figure size 432x288 with 1 Axes>"
      ]
     },
     "metadata": {
      "needs_background": "light"
     },
     "output_type": "display_data"
    }
   ],
   "source": [
    "fig, ax = plt.subplots()\n",
    "ax.scatter(y_test, y_pred)\n",
    "ax.plot([y_test.min(), y_test.max()], [y_test.min(), y_test.max()], 'k--', lw=2)\n",
    "ax.set_xlabel('Real')\n",
    "ax.set_ylabel('Predicted')\n",
    "plt.show()"
   ]
  },
  {
   "cell_type": "code",
   "execution_count": 185,
   "id": "7564edfb",
   "metadata": {},
   "outputs": [],
   "source": [
    "#In scatter plot-ul de mai sus se poate observa grafic acuratetea de 99.77%. Un model bun avand majoritatea punctelor pe diagonala."
   ]
  },
  {
   "cell_type": "code",
   "execution_count": 186,
   "id": "9c4db1f9",
   "metadata": {},
   "outputs": [],
   "source": [
    "#plt.figure(figsize=(12,8))\n",
    "#plt.plot(y, color = 'blue', label = \"Pret Real\")\n",
    "#plt.plot(y_pred, color = 'red', label = \"Pret Previzionat\")\n",
    "#plt.title(\"Predictia preturilor imobiliarelor\")\n",
    "#plt.xlabel(\"Numar anunturi\")\n",
    "#plt.ylabel(\"Pret\")\n",
    "#plt.legend()\n",
    "#plt.show()"
   ]
  },
  {
   "cell_type": "code",
   "execution_count": 187,
   "id": "312aca31",
   "metadata": {},
   "outputs": [],
   "source": [
    "#Important features"
   ]
  },
  {
   "cell_type": "code",
   "execution_count": 188,
   "id": "6b2039e5",
   "metadata": {},
   "outputs": [
    {
     "name": "stdout",
     "output_type": "stream",
     "text": [
      "[3.76395801e-02 3.51315512e-03 2.18648313e-02 5.08330047e-01\n",
      " 2.47553013e-02 4.16079497e-02 5.76479551e-05 3.36683057e-03\n",
      " 1.63231505e-04 2.68930889e-03 3.23845305e-05 1.60779408e-05\n",
      " 1.42634171e-04 2.33855476e-05 2.76834123e-05 4.07110412e-06\n",
      " 3.84959024e-06 1.58255477e-05 1.43483894e-05 2.76441468e-06\n",
      " 2.28840440e-03 0.00000000e+00 1.90292471e-04 8.57093318e-05\n",
      " 1.41239100e-05 7.86766300e-07 9.62987063e-05 2.21396592e-06\n",
      " 1.07642093e-04 1.05845967e-07 2.00025317e-05 1.48049654e-05\n",
      " 7.98192130e-04 0.00000000e+00 4.17504743e-04 5.81672103e-06\n",
      " 1.66977975e-04 2.13384833e-05 8.93354656e-05 1.84444181e-06\n",
      " 2.41594046e-05 3.57913160e-05 1.43646302e-05 6.68599777e-06\n",
      " 2.46594982e-04 1.16201883e-05 1.00342790e-04 7.14460274e-07\n",
      " 5.92006782e-05 2.82226616e-05 1.11088177e-06 1.06293600e-04\n",
      " 3.18272383e-05 1.32149006e-05 9.64698361e-05 2.25988822e-04\n",
      " 1.05845967e-07 4.73135372e-05 1.58334540e-06 2.38146114e-06\n",
      " 2.61975382e-08 3.54997283e-05 2.43389804e-05 1.02426271e-05\n",
      " 2.48444005e-08 2.71064819e-06 8.36917962e-06 0.00000000e+00\n",
      " 7.01139909e-06 0.00000000e+00 0.00000000e+00 1.34040744e-06\n",
      " 0.00000000e+00 9.82332144e-06 0.00000000e+00 4.23383866e-07\n",
      " 0.00000000e+00 0.00000000e+00 2.89863827e-05 8.79052650e-03\n",
      " 3.60923597e-05 5.42037125e-03 6.71632035e-06 9.44805518e-02\n",
      " 4.33562338e-05 0.00000000e+00 1.08996003e-05 1.92328089e-06\n",
      " 3.08334278e-06 0.00000000e+00 8.11928682e-07 5.69102892e-06\n",
      " 3.93177361e-06 8.11269759e-05 1.56211741e-06 1.85958132e-07\n",
      " 0.00000000e+00 0.00000000e+00 7.75360344e-05 1.20190068e-05\n",
      " 1.47422001e-05 4.73790350e-03 8.58024805e-07 3.77817274e-04\n",
      " 3.55656223e-06 0.00000000e+00 1.16685817e-02 0.00000000e+00\n",
      " 4.23383866e-09 3.23738556e-04 1.21478712e-04 4.25202370e-05\n",
      " 4.46313040e-05 7.70153789e-04 0.00000000e+00 0.00000000e+00\n",
      " 8.04505558e-06 0.00000000e+00 0.00000000e+00 1.54853531e-05\n",
      " 1.07033491e-04 1.51509934e-04 0.00000000e+00 1.92777479e-06\n",
      " 0.00000000e+00 0.00000000e+00 3.64108643e-06 0.00000000e+00\n",
      " 0.00000000e+00 6.49578721e-05 8.91899355e-05 3.04464261e-05\n",
      " 0.00000000e+00 0.00000000e+00 7.60809673e-04 5.20332039e-06\n",
      " 0.00000000e+00 5.60452199e-06 1.44259234e-04 0.00000000e+00\n",
      " 2.27019941e-06 0.00000000e+00 0.00000000e+00 2.26245410e-05\n",
      " 0.00000000e+00 0.00000000e+00 8.25757682e-06 0.00000000e+00\n",
      " 0.00000000e+00 5.48155912e-05 4.15579907e-04 2.27798705e-05\n",
      " 1.02029436e-05 1.65690997e-05 2.95739488e-05 0.00000000e+00\n",
      " 2.97151951e-05 6.05651522e-05 1.34109931e-04 9.29501099e-06\n",
      " 5.68062874e-04 4.37993512e-04 1.85865832e-05 5.52097223e-05\n",
      " 2.55827008e-05 1.00029305e-04 0.00000000e+00 4.51359216e-06\n",
      " 9.74941185e-06 0.00000000e+00 9.94094264e-06 0.00000000e+00\n",
      " 2.73578365e-06 9.24643670e-05 0.00000000e+00 1.14325305e-04\n",
      " 5.07574239e-06 2.20812470e-05 1.85190241e-04 5.33251989e-06\n",
      " 3.34505539e-04 9.00341422e-06 0.00000000e+00 1.47159491e-03\n",
      " 4.45092565e-06 1.86537787e-05 0.00000000e+00 0.00000000e+00\n",
      " 0.00000000e+00 6.37785049e-06 1.50870055e-05 3.23337376e-06\n",
      " 0.00000000e+00 1.04916371e-04 5.65559015e-05 1.19296482e-05\n",
      " 0.00000000e+00 5.14120683e-04 8.77746089e-05 1.72268434e-06\n",
      " 0.00000000e+00 0.00000000e+00 3.94972635e-05 4.95825021e-05\n",
      " 7.79507883e-05 0.00000000e+00 1.59736866e-06 7.87017079e-06\n",
      " 5.03562448e-06 2.35489088e-05 2.18199178e-06 0.00000000e+00\n",
      " 2.24480611e-05 7.91979590e-05 3.85211114e-05 4.97145274e-07\n",
      " 2.07391432e-05 2.75825500e-05 1.47837462e-05 0.00000000e+00\n",
      " 3.47307078e-07 2.49906737e-06 1.15890581e-04 0.00000000e+00\n",
      " 1.21120466e-06 1.27414839e-05 1.17688549e-04 0.00000000e+00\n",
      " 8.63888834e-06 0.00000000e+00 1.63090993e-07 0.00000000e+00\n",
      " 0.00000000e+00 0.00000000e+00 1.03779190e-04 3.44102604e-05\n",
      " 3.80397421e-05 4.16891057e-05 6.16807146e-06 2.41105175e-06\n",
      " 3.59965079e-06 4.17812414e-04 0.00000000e+00 0.00000000e+00\n",
      " 7.45440144e-05 1.03248887e-04 0.00000000e+00 0.00000000e+00\n",
      " 2.43092976e-05 0.00000000e+00 0.00000000e+00 0.00000000e+00\n",
      " 1.90315642e-06 4.15305714e-06 0.00000000e+00 0.00000000e+00\n",
      " 0.00000000e+00 0.00000000e+00 0.00000000e+00 6.61537291e-09\n",
      " 6.34187902e-06 1.46581296e-03 0.00000000e+00 0.00000000e+00\n",
      " 0.00000000e+00 4.69937633e-04 1.50293471e-04 2.18431880e-05\n",
      " 1.00558410e-03 3.20502998e-08 0.00000000e+00 1.12718922e-05\n",
      " 4.99881430e-06 6.39845483e-07 1.65384323e-09 3.29056391e-05\n",
      " 3.74592129e-05 0.00000000e+00 2.84136242e-06 0.00000000e+00\n",
      " 2.59040658e-04 1.71227347e-06 1.07499810e-08 9.52613699e-07\n",
      " 3.30006657e-06 5.84403945e-05 4.33897824e-05 6.16814569e-05\n",
      " 2.30062400e-06 0.00000000e+00 0.00000000e+00 3.66065903e-05\n",
      " 9.14903525e-04 2.20879038e-06 2.37047962e-06 1.15732932e-04\n",
      " 2.70110729e-04 0.00000000e+00 1.13679287e-05 1.28745487e-06\n",
      " 6.23808921e-06 0.00000000e+00 3.39504983e-05 3.25059217e-04\n",
      " 1.86784524e-04 3.58260483e-04 6.70127814e-05 3.94717674e-05\n",
      " 1.09012761e-04 2.12176518e-03 2.29074881e-06 1.66265407e-02\n",
      " 4.83317558e-06 7.95300118e-05 1.42522512e-05 1.62862814e-04\n",
      " 6.61537291e-09 3.10719456e-05 4.14945732e-06 3.62349176e-07\n",
      " 3.92909230e-06 3.58397181e-06 1.25035738e-05 3.24958453e-03\n",
      " 2.69306145e-05 3.35574405e-04 2.59960203e-06 2.41844465e-03\n",
      " 1.86397884e-06 4.59520946e-05 1.53170060e-03 9.07986180e-05\n",
      " 4.13602742e-06 3.34887818e-05 3.17915921e-06 1.64723888e-08\n",
      " 1.65384323e-07 2.89287699e-06 1.31222256e-04 6.64424758e-04\n",
      " 8.32018410e-06 2.76190589e-06 2.02064714e-06 1.69309599e-06\n",
      " 2.95742730e-05 2.19991357e-05 5.60948081e-06 4.72695192e-04\n",
      " 5.85793837e-05 2.16716896e-06 1.04075252e-06 1.09194511e-05\n",
      " 9.77365100e-07 7.96338009e-07 2.59035761e-06 2.23424012e-05\n",
      " 3.84799490e-05 3.34040965e-05 6.74276359e-05 3.78974427e-06\n",
      " 1.69337047e-04 9.93382854e-05 1.43975535e-05 1.23547507e-05\n",
      " 1.02379271e-05 6.37050145e-06 4.72340711e-06 0.00000000e+00\n",
      " 1.88252530e-05 0.00000000e+00 4.58025520e-05 2.00770464e-04\n",
      " 8.46137100e-05 1.37369350e-05 4.57651517e-06 3.42372105e-06\n",
      " 1.82432033e-05 0.00000000e+00 1.75919973e-06 3.52819888e-08\n",
      " 7.75734245e-05 1.57050751e-05 2.19013497e-06 1.02425927e-03\n",
      " 3.59795611e-05 4.20479177e-05 0.00000000e+00 1.85305077e-03\n",
      " 3.17835371e-06 2.02595471e-04 6.82154527e-05 0.00000000e+00\n",
      " 8.00460122e-09 9.72459817e-09 2.26850543e-05 8.82906343e-06\n",
      " 7.80268276e-04 0.00000000e+00 0.00000000e+00 0.00000000e+00\n",
      " 3.87510671e-03 7.82019028e-04 0.00000000e+00 1.87580822e-04\n",
      " 1.33546522e-05 1.54703505e-04 2.12109282e-06 2.09244245e-07\n",
      " 0.00000000e+00 7.75550689e-05 1.69353546e-07 0.00000000e+00\n",
      " 0.00000000e+00 1.21911563e-06 2.10128388e-05 4.56407808e-07\n",
      " 0.00000000e+00 1.08755552e-05 5.92233829e-04 6.74903204e-04\n",
      " 0.00000000e+00 0.00000000e+00 1.39947256e-05 0.00000000e+00\n",
      " 2.38254420e-04 3.45962916e-05 4.71108884e-06 5.80343813e-05\n",
      " 1.69079699e-05 7.99259223e-04 2.48076484e-09 3.17702964e-07\n",
      " 1.05725981e-03 6.82158914e-06 2.07602265e-07 4.62092674e-05\n",
      " 6.40779686e-05 0.00000000e+00 1.70491280e-04 2.44608095e-05\n",
      " 1.61233119e-04 1.81662939e-04 1.36621116e-04 2.82536519e-06\n",
      " 0.00000000e+00 1.78960348e-04 5.46738386e-06 9.43453309e-06\n",
      " 0.00000000e+00 2.64614916e-08 1.09461267e-03 1.27273593e-04\n",
      " 5.48496912e-06 0.00000000e+00 3.13050913e-06 4.77987653e-05\n",
      " 1.93373960e-03 2.23388803e-03 6.74938350e-06 2.05216983e-06\n",
      " 1.18974474e-03 0.00000000e+00 7.37289533e-06 1.02483550e-03\n",
      " 0.00000000e+00 7.71598506e-06 0.00000000e+00 0.00000000e+00\n",
      " 1.42174361e-05 1.77522643e-04 2.89087884e-05 3.39967019e-06\n",
      " 2.23268836e-08 1.39836199e-05 8.02944279e-07 1.89741340e-04\n",
      " 3.03983328e-06 1.71477081e-06 2.58353849e-06 0.00000000e+00\n",
      " 4.19031246e-04 5.40255454e-08 3.14790628e-05 0.00000000e+00\n",
      " 3.55042472e-05 1.42341678e-05 1.88892686e-05 2.30765510e-02\n",
      " 1.09653511e-03 4.22671560e-05 3.32313335e-06 5.16119933e-06\n",
      " 0.00000000e+00 1.50963564e-06 4.68979854e-05 8.45871726e-04\n",
      " 0.00000000e+00 0.00000000e+00 2.72244225e-04 3.32503816e-04\n",
      " 3.49679704e-05 7.16414810e-05 1.42892055e-08 0.00000000e+00\n",
      " 0.00000000e+00 0.00000000e+00 1.73580095e-05 2.66820041e-07\n",
      " 4.11345921e-04 8.06800672e-06 2.77276458e-06 1.36403234e-04\n",
      " 0.00000000e+00 1.55199794e-05 1.14693539e-05 0.00000000e+00\n",
      " 9.51101619e-05 6.30457266e-07 4.90829878e-05 0.00000000e+00\n",
      " 3.29566400e-06 1.80448704e-05 3.02741344e-06 2.76614024e-04\n",
      " 1.49998446e-06 4.93361705e-04 2.16124233e-05 1.56885154e-04\n",
      " 9.66073150e-06 2.44457980e-07 3.57230985e-05 4.10368122e-02\n",
      " 7.03700597e-06 0.00000000e+00 5.00652218e-06 6.36042040e-06\n",
      " 5.66095989e-07 6.31118521e-06 0.00000000e+00 6.71449707e-06\n",
      " 6.28243733e-06 4.18394728e-05 7.41023537e-04 0.00000000e+00\n",
      " 3.45064509e-05 2.93504299e-06 7.33780471e-07 0.00000000e+00\n",
      " 5.55185009e-06 9.04349413e-05 3.26181643e-06 4.24813765e-05\n",
      " 5.41917909e-06 1.97135194e-06 0.00000000e+00 1.82288566e-04\n",
      " 6.89101344e-07 1.87123892e-05 3.65553478e-06 2.29130031e-02\n",
      " 0.00000000e+00 3.39198567e-05 1.18940659e-05 0.00000000e+00\n",
      " 6.61537291e-11 3.74562351e-05 0.00000000e+00 1.06314342e-05\n",
      " 1.48904253e-04 0.00000000e+00 0.00000000e+00 0.00000000e+00\n",
      " 3.56440515e-05 3.50201303e-07 1.99603511e-05 6.25618063e-06\n",
      " 5.54649936e-06 0.00000000e+00 2.19775713e-04 8.66613851e-08\n",
      " 8.56252672e-06 2.13948845e-06 0.00000000e+00 2.79651723e-05\n",
      " 1.66046522e-06 3.44605928e-04 1.47057445e-05 7.68878066e-04\n",
      " 9.60227303e-04 2.06639652e-04 5.35174457e-06 1.46361878e-04\n",
      " 0.00000000e+00 7.27720467e-06 3.37613862e-05 4.24594572e-06\n",
      " 1.72042423e-06 3.95089886e-04 1.36611861e-06 8.63984133e-06\n",
      " 0.00000000e+00 1.54358701e-08 1.35200728e-06 2.43114954e-07\n",
      " 6.38640327e-06 2.39492309e-06 1.05099432e-06 6.57773052e-06\n",
      " 2.87361380e-06 1.28510268e-05 3.96923478e-06 1.65612627e-05\n",
      " 2.42341926e-06 1.52174116e-05 0.00000000e+00 3.25030844e-06\n",
      " 0.00000000e+00 0.00000000e+00 0.00000000e+00 0.00000000e+00\n",
      " 1.51051015e-09 0.00000000e+00 1.24370586e-07 7.03117657e-04\n",
      " 6.04834094e-08 1.13824140e-04 1.10570445e-07 1.54181763e-03\n",
      " 5.40181107e-06 3.09248320e-06 4.11457986e-06 1.84808434e-05\n",
      " 0.00000000e+00 2.10162474e-07 0.00000000e+00 1.82016589e-05\n",
      " 7.36899619e-07 0.00000000e+00 2.79520177e-06 1.29412968e-07\n",
      " 0.00000000e+00 1.50793701e-04 0.00000000e+00 2.50945168e-06\n",
      " 0.00000000e+00 5.97037405e-08 1.99650738e-05 3.01438562e-04\n",
      " 9.56470040e-05 0.00000000e+00 1.26704240e-04 1.29045261e-03\n",
      " 1.31258414e-06 3.24338891e-05 1.55940165e-04 2.01906795e-02\n",
      " 5.16229284e-05 3.65669307e-05 7.47621387e-06 2.28257929e-06\n",
      " 1.14044150e-04 5.14128274e-06 0.00000000e+00 0.00000000e+00\n",
      " 1.29661309e-07 8.49281692e-05 1.03663097e-04 0.00000000e+00\n",
      " 0.00000000e+00 8.90919833e-08 1.08708218e-06 1.64533016e-05\n",
      " 0.00000000e+00 1.68692009e-07 4.85240844e-05 1.51036968e-07\n",
      " 0.00000000e+00 1.22528895e-06 0.00000000e+00 4.24603367e-05\n",
      " 0.00000000e+00 0.00000000e+00 0.00000000e+00 3.42623592e-04\n",
      " 4.55307199e-05 1.91486984e-03 2.25233898e-03 7.67306358e-05\n",
      " 9.09092191e-05 7.17836652e-05 5.98144725e-05 5.26430965e-05\n",
      " 0.00000000e+00 0.00000000e+00 6.19261311e-05 8.10383181e-09\n",
      " 3.10912129e-05 9.98653869e-04 1.47861435e-04 3.10796247e-06\n",
      " 3.97972685e-06 3.18985319e-05 2.93932911e-05 4.15284486e-05\n",
      " 1.74667896e-07 9.31978145e-07 2.79408022e-06 1.44802635e-05\n",
      " 6.31915217e-06 1.47359873e-06 5.85946732e-06 6.61829758e-04\n",
      " 6.86222307e-06 2.47005130e-05 0.00000000e+00 3.98501471e-05\n",
      " 1.10541770e-04 4.08871754e-05 3.89766746e-07 1.32670972e-04\n",
      " 9.95307199e-05 1.36316875e-06 5.93776477e-04 1.70597466e-04\n",
      " 7.92844511e-07 2.35594714e-05 9.37315188e-07 3.16141763e-05\n",
      " 3.39771217e-07 3.69339276e-07 0.00000000e+00 2.32585739e-05\n",
      " 8.76397795e-04 6.24065260e-03 6.22160375e-05 5.64198893e-05\n",
      " 2.59322618e-07 2.05136206e-04 2.63969652e-06 5.98736837e-04\n",
      " 0.00000000e+00 0.00000000e+00 9.78428537e-05 4.31002728e-05\n",
      " 1.98461187e-08 1.94788587e-04 5.44985156e-05 2.38920420e-05\n",
      " 0.00000000e+00 4.54127418e-07 0.00000000e+00 8.72206858e-06\n",
      " 2.16036279e-04 1.31505050e-05 0.00000000e+00 5.23007602e-06\n",
      " 0.00000000e+00 0.00000000e+00 0.00000000e+00 1.86963903e-05\n",
      " 6.10085755e-05 2.04477825e-04 1.47265479e-05 5.40493608e-06\n",
      " 6.07056922e-06 2.48418196e-04 1.44129450e-04 4.44518388e-06\n",
      " 0.00000000e+00 1.24172005e-04 1.86477403e-05 0.00000000e+00\n",
      " 2.09211106e-05 1.53478489e-07 1.00572820e-03 1.86632817e-04\n",
      " 4.82313230e-05 5.96638006e-05 8.61746488e-06 4.61401450e-04\n",
      " 1.29048776e-04 1.10581381e-04 7.55418980e-05 2.22107536e-06\n",
      " 1.24022201e-05 2.95920515e-06 1.15673575e-04 5.00255704e-06\n",
      " 1.03370192e-05 1.65384984e-09 1.08415927e-04 9.33850909e-05\n",
      " 9.69940663e-05 6.61537291e-09 7.94798736e-06 7.23391027e-07\n",
      " 1.18424681e-05 3.29855487e-04 1.36441149e-06 2.46889422e-05\n",
      " 2.94643774e-06 1.84249397e-06 4.37617010e-06 1.55812198e-04\n",
      " 1.20812410e-07 5.31714920e-05 6.13171908e-04 0.00000000e+00\n",
      " 2.25621737e-04 6.98753351e-06 2.05521672e-04 5.65136313e-07\n",
      " 0.00000000e+00 2.21462519e-06 1.32613998e-06 1.93520077e-05\n",
      " 6.36839899e-08 1.86673913e-04 3.84206662e-05 1.83150430e-05\n",
      " 2.74933456e-04 0.00000000e+00 9.16868132e-06 1.13733560e-05\n",
      " 1.53709568e-06 3.36214486e-05 0.00000000e+00 5.57223723e-05\n",
      " 1.04207173e-04 2.00158818e-05 2.90249486e-07 1.45707504e-05\n",
      " 1.51575834e-06 2.56944222e-03 4.64670985e-03 0.00000000e+00\n",
      " 0.00000000e+00 3.80247267e-03 0.00000000e+00 1.58377988e-05\n",
      " 8.78459115e-06 1.65384323e-09 2.76089376e-04 1.00344961e-05\n",
      " 6.08503686e-06 0.00000000e+00 8.93075342e-08 5.96045099e-08\n",
      " 3.61530129e-07 7.15540783e-06 1.24710629e-05 3.31298723e-06\n",
      " 3.68793564e-04 0.00000000e+00 1.60144142e-04 7.83326306e-07\n",
      " 2.89257204e-07 3.53973457e-06 5.89648406e-04 4.70081156e-05\n",
      " 0.00000000e+00 1.65293923e-05 9.78877572e-07 3.40651115e-04\n",
      " 7.23861111e-05 4.14601484e-05 1.13526414e-07 3.22395788e-07\n",
      " 0.00000000e+00 1.82170765e-05 2.96122825e-05 0.00000000e+00\n",
      " 1.56714141e-07 1.62077606e-06 1.76277740e-06 0.00000000e+00\n",
      " 0.00000000e+00 3.04853303e-06 3.76256564e-06 7.23885490e-06\n",
      " 4.01235805e-05]\n"
     ]
    }
   ],
   "source": [
    "print(dt.feature_importances_)"
   ]
  },
  {
   "cell_type": "code",
   "execution_count": 189,
   "id": "ae43295a",
   "metadata": {},
   "outputs": [
    {
     "data": {
      "image/png": "[encoded data removed]",
      "text/plain": [
       "<Figure size 864x576 with 1 Axes>"
      ]
     },
     "metadata": {
      "needs_background": "light"
     },
     "output_type": "display_data"
    }
   ],
   "source": [
    "plt.figure(figsize = (12,8))\n",
    "feat_importances = pd.Series(dt.feature_importances_,index=X.columns)\n",
    "feat_importances.nlargest(15).plot(kind='barh')\n",
    "plt.show()"
   ]
  },
  {
   "cell_type": "code",
   "execution_count": null,
   "id": "769a42a9",
   "metadata": {},
   "outputs": [],
   "source": []
  },
  {
   "cell_type": "code",
   "execution_count": null,
   "id": "2805a748",
   "metadata": {},
   "outputs": [],
   "source": []
  }
 ],
 "metadata": {
  "kernelspec": {
   "display_name": "Python 3 (ipykernel)",
   "language": "python",
   "name": "python3"
  },
  "language_info": {
   "codemirror_mode": {
    "name": "ipython",
    "version": 3
   },
   "file_extension": ".py",
   "mimetype": "text/x-python",
   "name": "python",
   "nbconvert_exporter": "python",
   "pygments_lexer": "ipython3",
   "version": "3.10.0"
  }
 },
 "nbformat": 4,
 "nbformat_minor": 5
}
